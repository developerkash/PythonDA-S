{
 "cells": [
  {
   "cell_type": "code",
   "execution_count": null,
   "metadata": {},
   "outputs": [],
   "source": [
    "x = float(input('give me a number: '))\n",
    "if x >=10:\n",
    "    print('Huray!🎉🎉🎉')\n",
    "print('The End')"
   ]
  },
  {
   "cell_type": "code",
   "execution_count": null,
   "metadata": {},
   "outputs": [],
   "source": [
    "if x % 2 == 0:\n",
    "    print('x is even')"
   ]
  },
  {
   "cell_type": "code",
   "execution_count": null,
   "metadata": {},
   "outputs": [],
   "source": [
    "price = 2000\n",
    "if price > 2000 :\n",
    "    print('expensive')\n",
    "else:\n",
    "    print('we can buy it')"
   ]
  },
  {
   "cell_type": "code",
   "execution_count": null,
   "metadata": {},
   "outputs": [],
   "source": [
    "marks = int(input('Enter your marks: '))\n",
    "total = 600\n",
    "pct = marks / total * 100\n",
    "print(f'{marks} / {total} = {pct:.2f}%' )\n",
    "if pct >= 90:\n",
    "    grade = 'A'\n",
    "elif pct >= 75:\n",
    "    grade = 'B'\n",
    "elif pct >= 60:\n",
    "    grade = 'C'\n",
    "elif pct >= 40:\n",
    "    grade = 'D'\n",
    "else:\n",
    "    grade = 'F'\n",
    "print(f'Grade : {grade}')"
   ]
  },
  {
   "cell_type": "code",
   "execution_count": null,
   "metadata": {},
   "outputs": [],
   "source": [
    "print(\"what is the capital of bihar?\")\n",
    "ans = input('Enter your answer: ')\n",
    "match ans:\n",
    "    case 'delhi':\n",
    "        print('inCorrect')\n",
    "    case 'Patna'|'patna':\n",
    "        print('Correct')\n",
    "    case _:\n",
    "        print('invalid input')"
   ]
  },
  {
   "cell_type": "markdown",
   "metadata": {},
   "source": [
    "loops\n",
    "    iteration based for\n",
    "    condition based while"
   ]
  },
  {
   "cell_type": "code",
   "execution_count": null,
   "metadata": {},
   "outputs": [],
   "source": [
    "# List of 25 movies\n",
    "movies = [\n",
    "    \"1. The Godfather\",\n",
    "    \"2. The Shawshank Redemption\",\n",
    "    \"3. Schindler's List\",\n",
    "    \"4. Raging Bull\",\n",
    "    \"5. Casablanca\",\n",
    "    \"6. Citizen Kane\",\n",
    "    \"7. Gone with the Wind\",\n",
    "    \"8. The Wizard of Oz\",\n",
    "    \"9. One Flew Over the Cuckoo's Nest\",\n",
    "    \"10. Lawrence of Arabia\",\n",
    "    \"11. Vertigo\",\n",
    "    \"12. Psycho\",\n",
    "    \"13. Forrest Gump\",\n",
    "    \"14. The Sound of Music\",\n",
    "    \"15. E.T. the Extra-Terrestrial\",\n",
    "    \"16. 2001: A Space Odyssey\",\n",
    "    \"17. The Silence of the Lambs\",\n",
    "    \"18. Titanic\",\n",
    "    \"19. The Lord of the Rings: The Return of the King\",\n",
    "    \"20. Gladiator\",\n",
    "    \"21. Braveheart\",\n",
    "    \"22. The Matrix\",\n",
    "    \"23. Saving Private Ryan\",\n",
    "    \"24. The Green Mile\",\n",
    "    \"25. Pulp Fiction\",\n",
    "]\n",
    "\n",
    "# Printing the list of movies\n",
    "for movie in movies:\n",
    "    print(movie)\n"
   ]
  },
  {
   "cell_type": "markdown",
   "metadata": {},
   "source": [
    "```for item in iterable:\n",
    "    statement 1\n",
    "    ....\n",
    "    statement n\n",
    "```"
   ]
  },
  {
   "cell_type": "code",
   "execution_count": null,
   "metadata": {},
   "outputs": [],
   "source": [
    "len(movies)"
   ]
  },
  {
   "cell_type": "code",
   "execution_count": null,
   "metadata": {},
   "outputs": [],
   "source": [
    "for movie in movies:\n",
    "    print(movie)"
   ]
  },
  {
   "cell_type": "code",
   "execution_count": null,
   "metadata": {},
   "outputs": [],
   "source": [
    "for i in [12, 25, 45, 78, 45, 89]:\n",
    "    print(i)"
   ]
  },
  {
   "cell_type": "code",
   "execution_count": null,
   "metadata": {},
   "outputs": [],
   "source": [
    "for i in range(10, 0, -2):\n",
    "    print(i)"
   ]
  },
  {
   "cell_type": "code",
   "execution_count": null,
   "metadata": {},
   "outputs": [],
   "source": [
    "for i in range(2, 21, 2):\n",
    "    print(i)"
   ]
  },
  {
   "cell_type": "code",
   "execution_count": null,
   "metadata": {},
   "outputs": [],
   "source": [
    "for name in movies:\n",
    "    if 'The' in name or 'The' in name:\n",
    "        print(name)"
   ]
  },
  {
   "cell_type": "code",
   "execution_count": null,
   "metadata": {},
   "outputs": [],
   "source": [
    "for name in movies:\n",
    "    if 'The' in name.lower():\n",
    "        print(name)"
   ]
  },
  {
   "cell_type": "code",
   "execution_count": null,
   "metadata": {},
   "outputs": [],
   "source": [
    "x = [12, 25, 45]\n",
    "total = 0\n",
    "for i in x:\n",
    "    total += i\n",
    "print(total)"
   ]
  },
  {
   "cell_type": "code",
   "execution_count": null,
   "metadata": {},
   "outputs": [],
   "source": [
    "sum(x)"
   ]
  },
  {
   "cell_type": "code",
   "execution_count": null,
   "metadata": {},
   "outputs": [],
   "source": [
    "n = 15\n",
    "fact = 1\n",
    "for i in range(2, n+1):\n",
    "    fact *= i\n",
    "print(fact)"
   ]
  },
  {
   "cell_type": "code",
   "execution_count": 44,
   "metadata": {},
   "outputs": [
    {
     "name": "stdout",
     "output_type": "stream",
     "text": [
      "2\n",
      "3\n",
      "4\n",
      "5\n",
      "6\n",
      "7\n",
      "8\n",
      "9\n",
      "10\n"
     ]
    }
   ],
   "source": [
    "a = 1\n",
    "while a < 10:\n",
    "    a += 1\n",
    "    print(a)"
   ]
  },
  {
   "cell_type": "code",
   "execution_count": 1,
   "metadata": {},
   "outputs": [
    {
     "name": "stdout",
     "output_type": "stream",
     "text": [
      "Invalid input\n",
      "very good\n"
     ]
    }
   ],
   "source": [
    "while True:\n",
    "    x = input('Enter a number: ')\n",
    "    if x.isnumeric():\n",
    "        print('very good')\n",
    "        break\n",
    "    else:\n",
    "        print('Invalid input')\n",
    "    "
   ]
  }
 ],
 "metadata": {
  "kernelspec": {
   "display_name": "base",
   "language": "python",
   "name": "python3"
  },
  "language_info": {
   "codemirror_mode": {
    "name": "ipython",
    "version": 3
   },
   "file_extension": ".py",
   "mimetype": "text/x-python",
   "name": "python",
   "nbconvert_exporter": "python",
   "pygments_lexer": "ipython3",
   "version": "3.11.5"
  }
 },
 "nbformat": 4,
 "nbformat_minor": 2
}
