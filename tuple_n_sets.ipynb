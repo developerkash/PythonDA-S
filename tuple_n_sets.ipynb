{
 "cells": [
  {
   "cell_type": "code",
   "execution_count": null,
   "metadata": {},
   "outputs": [],
   "source": [
    "x = (1,2,3)\n",
    "print(x)"
   ]
  },
  {
   "cell_type": "code",
   "execution_count": null,
   "metadata": {},
   "outputs": [],
   "source": [
    "y = 2, 3, 4 #parentheses are optional for tuples in Python (tuple packing)\n",
    "print(y)"
   ]
  },
  {
   "cell_type": "code",
   "execution_count": null,
   "metadata": {},
   "outputs": [],
   "source": [
    "for i in x:\n",
    "    print(i)"
   ]
  },
  {
   "cell_type": "code",
   "execution_count": null,
   "metadata": {},
   "outputs": [],
   "source": [
    "# x[0] = 5 #tuples are immutable, so this will raise an error\n",
    "print(x[0]) #first element of the tuple\n",
    "print(x[1]) #second element of the tuple"
   ]
  },
  {
   "cell_type": "code",
   "execution_count": null,
   "metadata": {},
   "outputs": [],
   "source": [
    "a = 1,2,3,4,2,6,7,2,9,10\n",
    "print(a) #prints the entire tuple\n",
    "print(a[:5]) #prints the first 5 elements of the tuple\n",
    "print(a[-3:]) #prints the last 3 elements of the tuple"
   ]
  },
  {
   "cell_type": "code",
   "execution_count": null,
   "metadata": {},
   "outputs": [],
   "source": [
    "# tuple has only two methods: count and index\n",
    "print(a.count(1)) #prints the number of times 1 appears in the tuple\n",
    "print(a.count(2)) #prints the number of times 2 appears in the tuple\n",
    "print(a.count(11)) #prints the index of the first occurrence of 1 in the tuple\n",
    "print(a.index(2)) #prints the index of the first occurrence of 2 in the tuple"
   ]
  },
  {
   "cell_type": "markdown",
   "metadata": {},
   "source": [
    "Set"
   ]
  },
  {
   "cell_type": "code",
   "execution_count": null,
   "metadata": {},
   "outputs": [],
   "source": [
    "a = {1,2,3,4,2,6,7,2,9,10}\n",
    "print(a) #prints the entire set\n",
    "\n",
    "b = {'apple', 'banana', 'orange', 'cherry', 'custurd apple', 'pomegranate', 'dragon fruit', 'banana', 'orange'}\n",
    "print(b) #prints the entire set\n",
    "\n",
    "b.add('grapes') #adds grapes to the set\n",
    "b.add('guava') #adds guava to the set\n",
    "print(b) #prints the entire set\n",
    "\n",
    "b.discard('banana') #removes banana from the set\n",
    "print(b) #prints the entire set"
   ]
  },
  {
   "cell_type": "code",
   "execution_count": 35,
   "metadata": {},
   "outputs": [
    {
     "name": "stdout",
     "output_type": "stream",
     "text": [
      "{1, 2, 3, 4, 5, 6, 7, 8}\n",
      "{1, 2, 3, 4, 5, 6, 7, 8}\n",
      "{4, 5}\n",
      "{4, 5}\n",
      "{1, 2, 3}\n",
      "{1, 2, 3}\n",
      "{8, 6, 7}\n"
     ]
    }
   ],
   "source": [
    "# operations on sets\n",
    "x = {1,2,3,4,5}\n",
    "y = {4,5,6,7,8}\n",
    "\n",
    "#union\n",
    "print(x | y) #prints the union of x and y removes duplicates\n",
    "print(x.union(y)) #prints the union of x and y removes duplicates\n",
    "\n",
    "#intersection\n",
    "print(x & y) #prints the intersection of x and y common elements\n",
    "print(x.intersection(y)) #prints the intersection of x and y common elements\n",
    "\n",
    "#difference\n",
    "print(x - y) #prints the difference of x and y elements in x but not in y\n",
    "print(x.difference(y)) #prints the difference of x and y elements in x but not in y\n",
    "print(y - x) #prints the difference of y and x elements in y but not in x"
   ]
  },
  {
   "cell_type": "code",
   "execution_count": 37,
   "metadata": {},
   "outputs": [
    {
     "name": "stdout",
     "output_type": "stream",
     "text": [
      "{1, 2, 3, 6, 7, 8}\n",
      "{1, 2, 3, 6, 7, 8}\n"
     ]
    }
   ],
   "source": [
    "# symmetric difference\n",
    "print(x ^ y) #prints the symmetric difference of x and y elements in x or y but not in both\n",
    "print(x.symmetric_difference(y)) #prints the symmetric difference of x and y elements in x or y but not in both"
   ]
  },
  {
   "cell_type": "code",
   "execution_count": 41,
   "metadata": {},
   "outputs": [
    {
     "name": "stdout",
     "output_type": "stream",
     "text": [
      "[1, 2, 3, 4, 2, 2, 3, 5, 6] <== list\n",
      "{1, 2, 3, 4, 5, 6} <== set\n",
      "(1, 2, 3, 4, 5, 6) <== tuple\n",
      "[1, 2, 3, 4, 2, 2, 3, 5, 6] <== list\n"
     ]
    }
   ],
   "source": [
    "# inter conversion between list, tuple and set\n",
    "x = [1,2,3,4,2,2,3,5,6]\n",
    "print(x, \"<== list\")\n",
    "\n",
    "xs = set(x)\n",
    "print(xs, \"<== set\")\n",
    "\n",
    "xt = tuple(xs)\n",
    "print(xt, \"<== tuple\")\n",
    "\n",
    "xl = list(xl)\n",
    "print(xl, \"<== list\")"
   ]
  },
  {
   "cell_type": "code",
   "execution_count": null,
   "metadata": {},
   "outputs": [],
   "source": []
  }
 ],
 "metadata": {
  "kernelspec": {
   "display_name": "base",
   "language": "python",
   "name": "python3"
  },
  "language_info": {
   "codemirror_mode": {
    "name": "ipython",
    "version": 3
   },
   "file_extension": ".py",
   "mimetype": "text/x-python",
   "name": "python",
   "nbconvert_exporter": "python",
   "pygments_lexer": "ipython3",
   "version": "3.11.5"
  }
 },
 "nbformat": 4,
 "nbformat_minor": 2
}
