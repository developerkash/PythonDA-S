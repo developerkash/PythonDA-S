{
 "cells": [
  {
   "cell_type": "markdown",
   "metadata": {},
   "source": [
    "collections\n",
    "\n",
    "list            index       order       duplicate           []              list()\n",
    "tuple           index       order       duplicate           ()              tuple()\n",
    "set             unindexed   unorder     unique              {}              \n",
    "dictionary      unindexed   order       unique duplicate    {key:value}"
   ]
  },
  {
   "cell_type": "code",
   "execution_count": null,
   "metadata": {},
   "outputs": [],
   "source": []
  }
 ],
 "metadata": {
  "language_info": {
   "name": "python"
  }
 },
 "nbformat": 4,
 "nbformat_minor": 2
}
