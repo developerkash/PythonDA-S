{
 "cells": [
  {
   "cell_type": "code",
   "execution_count": null,
   "metadata": {},
   "outputs": [],
   "source": []
  },
  {
   "cell_type": "markdown",
   "metadata": {},
   "source": [
    "# methods \n",
    "functions are blockof code\n",
    "method are block of code "
   ]
  },
  {
   "cell_type": "code",
   "execution_count": 4,
   "metadata": {},
   "outputs": [
    {
     "name": "stdout",
     "output_type": "stream",
     "text": [
      "original : Data Science\n",
      "upper : DATA SCIENCE\n",
      "lower : data science\n",
      "capitalize : Data science\n"
     ]
    }
   ],
   "source": [
    "word = \"Data Science\"\n",
    "word2 = word.upper()\n",
    "word3 = word.lower()\n",
    "word4 = word.capitalize()\n",
    "print(f'original : {word}')\n",
    "print(f'upper : {word2}')\n",
    "print(f'lower : {word3}')\n",
    "print(f'capitalize : {word4}')"
   ]
  },
  {
   "cell_type": "markdown",
   "metadata": {},
   "source": [
    "search and replace "
   ]
  },
  {
   "cell_type": "code",
   "execution_count": 10,
   "metadata": {},
   "outputs": [
    {
     "name": "stdout",
     "output_type": "stream",
     "text": [
      "20\n",
      "13\n",
      "20\n"
     ]
    }
   ],
   "source": [
    "sentence = \"Data Science is the science of data.\"\n",
    "print(sentence.find('science'))\n",
    "print(sentence.find('is'))\n",
    "print(sentence.find('science', 10)) # start from 10th index"
   ]
  },
  {
   "cell_type": "code",
   "execution_count": 12,
   "metadata": {},
   "outputs": [],
   "source": [
    "sentence2 = \"The quick brown fox jumps over the lazy dog.\""
   ]
  },
  {
   "cell_type": "code",
   "execution_count": 14,
   "metadata": {},
   "outputs": [
    {
     "name": "stdout",
     "output_type": "stream",
     "text": [
      "16\n",
      "-1\n"
     ]
    }
   ],
   "source": [
    "print(sentence2.find('fox'))\n",
    "print(sentence2.find('red'))"
   ]
  },
  {
   "cell_type": "code",
   "execution_count": 19,
   "metadata": {},
   "outputs": [
    {
     "name": "stdout",
     "output_type": "stream",
     "text": [
      "The quick green fox jumps over the lazy dog.\n",
      "The quick brown hen jumps over the sleepy cat.\n"
     ]
    }
   ],
   "source": [
    "print(sentence2.replace('brown', 'green'))\n",
    "print(sentence2.replace('fox', 'hen').replace('dog', 'cat').replace('lazy', 'sleepy'))"
   ]
  },
  {
   "cell_type": "markdown",
   "metadata": {},
   "source": [
    "count split join"
   ]
  },
  {
   "cell_type": "code",
   "execution_count": 21,
   "metadata": {},
   "outputs": [],
   "source": [
    "story = \"Once there was a king named Arthur. He was a great king. He was the king of England.\""
   ]
  },
  {
   "cell_type": "code",
   "execution_count": 22,
   "metadata": {},
   "outputs": [
    {
     "name": "stdout",
     "output_type": "stream",
     "text": [
      "3\n"
     ]
    }
   ],
   "source": [
    "print(story.count('king'))"
   ]
  },
  {
   "cell_type": "code",
   "execution_count": 24,
   "metadata": {},
   "outputs": [
    {
     "name": "stdout",
     "output_type": "stream",
     "text": [
      "['Once', 'there', 'was', 'a', 'king', 'named', 'Arthur.', 'He', 'was', 'a', 'great', 'king.', 'He', 'was', 'the', 'king', 'of', 'England.']\n",
      "['Once there was a king named Arthur', ' He was a great king', ' He was the king of England', '']\n"
     ]
    }
   ],
   "source": [
    "print(story.split())\n",
    "print(story.split('.'))"
   ]
  },
  {
   "cell_type": "code",
   "execution_count": 25,
   "metadata": {},
   "outputs": [
    {
     "name": "stdout",
     "output_type": "stream",
     "text": [
      "[' johny johny yes papa', 'eating sugar no papa', 'telling lies no papa', 'open your mouth hahaha']\n",
      "[' johny johny yes papa', 'eating sugar no papa', 'telling lies no papa', 'open your mouth hahaha']\n",
      "[' johny johny yes ', '\\neating sugar no ', '\\ntelling lies no ', '\\nopen your mouth hahaha']\n"
     ]
    }
   ],
   "source": [
    "poem = ''' johny johny yes papa\n",
    "eating sugar no papa\n",
    "telling lies no papa\n",
    "open your mouth hahaha'''\n",
    "\n",
    "print(poem.split('\\n'))\n",
    "print(poem.splitlines())\n",
    "print(poem.split('papa'))\n"
   ]
  },
  {
   "cell_type": "code",
   "execution_count": 29,
   "metadata": {},
   "outputs": [
    {
     "name": "stdout",
     "output_type": "stream",
     "text": [
      "c/usr/local/bin/python3\n",
      "c usr local bin python3\n",
      "c🎶usr🎶local🎶bin🎶python3\n"
     ]
    }
   ],
   "source": [
    "pathlist = ['c', 'usr', 'local', 'bin', 'python3']\n",
    "print('/'.join(pathlist))\n",
    "print(' '.join(pathlist))\n",
    "print('🎶'.join(pathlist)) # emoji window key + >"
   ]
  },
  {
   "cell_type": "code",
   "execution_count": 41,
   "metadata": {},
   "outputs": [
    {
     "name": "stdout",
     "output_type": "stream",
     "text": [
      "total items in downloads : 36\n"
     ]
    }
   ],
   "source": [
    "import os\n",
    "content = os.listdir('c:/users/akash gupta/downloads/')\n",
    "print(f'total items in downloads : {len(content)}')"
   ]
  },
  {
   "cell_type": "markdown",
   "metadata": {},
   "source": [
    "endwith\n",
    "startwith"
   ]
  },
  {
   "cell_type": "code",
   "execution_count": 42,
   "metadata": {},
   "outputs": [
    {
     "name": "stdout",
     "output_type": "stream",
     "text": [
      "10.0+Display+Grid.zip\n",
      "10.1+Grid+Sizing.zip\n",
      "10.2+Grid+Placement.zip\n",
      "10.3+Mondrian+Project.zip\n",
      "7.0+CSS+Cascade.zip\n",
      "7.1+Combining+Selectors.zip\n",
      "7.2+CSS+Positioning.zip\n",
      "7.3+Flag+Project.zip\n",
      "8.0+CSS+Display.zip\n",
      "8.1+CSS+Float.zip\n",
      "8.2+Responsiveness.zip\n",
      "8.3+Media+Query.zip\n",
      "8.4+Web+Design+Agency+Project.zip\n",
      "9.0+Display+Flex.zip\n",
      "9.1+Flex+Direction.zip\n",
      "9.4+Flexbox+Pricing+Table+Project.zip\n",
      "Akash .. AADHAR.pdf\n",
      "Akash 10th.pdf\n",
      "AKASH...AADHAAR.pdf\n",
      "Akash.jpeg\n",
      "ChromeSetup.exe\n",
      "desktop.ini\n",
      "f.pdf\n",
      "Git-2.43.0-64-bit.exe\n",
      "hp_LJ1020_Full_Solution-v2012_918_1_57980.exe\n",
      "level 7 Python sophomore (1).pptx\n",
      "level 7 Python sophomore.pptx\n",
      "level 8 Python sophomore.pptx\n",
      "Miniconda3-latest-Windows-x86_64.exe\n",
      "node-v20.10.0-x64.msi\n",
      "Postman-win64-Setup.exe\n",
      "VSCodeUserSetup-x64-1.85.1.exe\n",
      "WhatsApp Image 2024-01-31 at 7.11.29 PM.jpeg\n",
      "WhatsApp Image 2024-01-31 at 7.14.13 PM.jpeg\n",
      "WhatsApp Image 2024-01-31 at 7.17.36 PM.jpeg\n",
      "WhatsApp Image 2024-01-31 at 7.19.59 PM.jpeg\n"
     ]
    }
   ],
   "source": [
    "for item in content:\n",
    "    print(item)"
   ]
  },
  {
   "cell_type": "code",
   "execution_count": 43,
   "metadata": {},
   "outputs": [
    {
     "name": "stdout",
     "output_type": "stream",
     "text": [
      "Akash .. AADHAR.pdf\n",
      "Akash 10th.pdf\n",
      "AKASH...AADHAAR.pdf\n",
      "f.pdf\n",
      "total pdf files in downloads : 4\n"
     ]
    }
   ],
   "source": [
    "total = 0\n",
    "for item in content:\n",
    "    if item.endswith('.pdf'):\n",
    "        print(item)\n",
    "        total += 1\n",
    "print(f'total pdf files in downloads : {total}')"
   ]
  },
  {
   "cell_type": "code",
   "execution_count": 54,
   "metadata": {},
   "outputs": [
    {
     "name": "stdout",
     "output_type": "stream",
     "text": [
      "level 7 Python sophomore (1).pptx\n",
      "level 7 Python sophomore.pptx\n",
      "level 8 Python sophomore.pptx\n",
      "total pdf files in downloads : 3\n"
     ]
    }
   ],
   "source": [
    "total1 = 0\n",
    "for item in content:\n",
    "    if item.lower().startswith('level') :\n",
    "        print(item)\n",
    "        total1 += 1\n",
    "print(f'total pdf files in downloads : {total1}')"
   ]
  }
 ],
 "metadata": {
  "kernelspec": {
   "display_name": "base",
   "language": "python",
   "name": "python3"
  },
  "language_info": {
   "codemirror_mode": {
    "name": "ipython",
    "version": 3
   },
   "file_extension": ".py",
   "mimetype": "text/x-python",
   "name": "python",
   "nbconvert_exporter": "python",
   "pygments_lexer": "ipython3",
   "version": "3.11.5"
  }
 },
 "nbformat": 4,
 "nbformat_minor": 2
}
