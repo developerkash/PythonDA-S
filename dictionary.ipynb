{
 "cells": [
  {
   "cell_type": "code",
   "execution_count": 9,
   "metadata": {},
   "outputs": [
    {
     "name": "stdout",
     "output_type": "stream",
     "text": [
      "akash\n",
      "20\n",
      "None\n",
      "{'name': 'akash', 'age': 21}\n",
      "{'name': 'akash', 'age': 21, 'address': 'earth'}\n"
     ]
    }
   ],
   "source": [
    "# get vs [] retrieving elements \n",
    "my_dict = {'name': 'akash', 'age': '20'}\n",
    "\n",
    "print(my_dict['name'])\n",
    "\n",
    "print(my_dict.get('age'))\n",
    "\n",
    "print(my_dict.get('address'))\n",
    "\n",
    "# print(my_dict[\"address\"]) # KeyError: 'address'\n",
    "\n",
    "my_dict['age'] = 21\n",
    "print(my_dict)\n",
    "\n",
    "my_dict['address'] = 'earth'\n",
    "print(my_dict)"
   ]
  },
  {
   "cell_type": "code",
   "execution_count": 15,
   "metadata": {},
   "outputs": [
    {
     "name": "stdout",
     "output_type": "stream",
     "text": [
      "16\n",
      "{1: 1, 2: 4, 3: 9, 5: 25}\n",
      "(5, 25)\n",
      "{1: 1, 2: 4, 3: 9}\n",
      "{}\n"
     ]
    }
   ],
   "source": [
    "squares = {1: 1, 2: 4, 3: 9, 4: 16, 5: 25}\n",
    "\n",
    "# remove a particular item, returns its value\n",
    "print(squares.pop(4))\n",
    "print(squares)\n",
    "\n",
    "# remove an arbitrary item, return (key,value)\n",
    "print(squares.popitem())\n",
    "print(squares)\n",
    "\n",
    "# remove all items\n",
    "squares.clear()\n",
    "print(squares)"
   ]
  }
 ],
 "metadata": {
  "kernelspec": {
   "display_name": "base",
   "language": "python",
   "name": "python3"
  },
  "language_info": {
   "codemirror_mode": {
    "name": "ipython",
    "version": 3
   },
   "file_extension": ".py",
   "mimetype": "text/x-python",
   "name": "python",
   "nbconvert_exporter": "python",
   "pygments_lexer": "ipython3",
   "version": "3.11.5"
  }
 },
 "nbformat": 4,
 "nbformat_minor": 2
}
