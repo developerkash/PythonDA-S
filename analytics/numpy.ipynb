{
 "cells": [
  {
   "cell_type": "markdown",
   "metadata": {},
   "source": [
    "# 29/02/2024"
   ]
  },
  {
   "cell_type": "code",
   "execution_count": null,
   "metadata": {},
   "outputs": [],
   "source": [
    "import numpy as np # importin numpy library"
   ]
  },
  {
   "cell_type": "markdown",
   "metadata": {},
   "source": [
    "create"
   ]
  },
  {
   "cell_type": "code",
   "execution_count": null,
   "metadata": {},
   "outputs": [],
   "source": [
    "x1 = np.array([1, 2, 3, 4, 5]) # creating an array\n",
    "print(x1) # printing the array\n",
    "print(type(x1)) # printing the type of the array"
   ]
  },
  {
   "cell_type": "code",
   "execution_count": null,
   "metadata": {},
   "outputs": [],
   "source": [
    "x2 = np.array([[1, 2, 3], [4, 5, 6]]) # creating a 2D array\n",
    "\n",
    "print(x2) # printing the 2D array\n",
    "print(type(x2)) # printing the type of the 2D array"
   ]
  },
  {
   "cell_type": "code",
   "execution_count": null,
   "metadata": {},
   "outputs": [],
   "source": [
    "x3 = np.array([\n",
    "    [[1, 2, 3], [4, 5, 6]], \n",
    "    [[7, 8, 9], [10, 11, 12]]\n",
    "]) # creating a 3D array\n",
    "print(x3) # printing the 3D array"
   ]
  },
  {
   "cell_type": "markdown",
   "metadata": {},
   "source": [
    "methods to create matrix\n",
    "\n",
    "1D \n",
    "arange() - start, stop, step\n",
    "linspace() - start, stop, numOfElements\n",
    "\n",
    "nD\n",
    "random.randit() - low, high, size "
   ]
  },
  {
   "cell_type": "code",
   "execution_count": null,
   "metadata": {},
   "outputs": [],
   "source": [
    "a = np.arange(10, 51, 5) # creating an array with numbers from 10 to 51 with a step of 5\n",
    "print(a) # printing the array\n",
    "print(a.shape) # printing the shape of the array"
   ]
  },
  {
   "cell_type": "code",
   "execution_count": null,
   "metadata": {},
   "outputs": [],
   "source": [
    "b = np.linspace(10, 20, 100) # creating an array with 100 numbers from 10 to 20 \n",
    "print(b) # printing the array"
   ]
  },
  {
   "cell_type": "code",
   "execution_count": null,
   "metadata": {},
   "outputs": [],
   "source": [
    "c = np.random.randint(-100, 100, (5, 5)) # creating a 5x5 array with random numbers from 10 to 20 \n",
    "print(c) # printing the array"
   ]
  },
  {
   "cell_type": "code",
   "execution_count": null,
   "metadata": {},
   "outputs": [],
   "source": [
    "m1 = np.array([[2, 4, 6], [1, 3, 5]]) \n",
    "\n",
    "m2 = np.array([[1,2], [5, 1], [3,2]])\n",
    "\n",
    "print(m1, m2, sep='\\n') # printing the arrays\n",
    "print(m1@m2) # printing the result of the matrix multiplication"
   ]
  },
  {
   "cell_type": "markdown",
   "metadata": {},
   "source": [
    "# 1/03/2024"
   ]
  },
  {
   "cell_type": "code",
   "execution_count": null,
   "metadata": {},
   "outputs": [],
   "source": [
    "\n",
    "print(m1)\n",
    "print(f'size => {m1.size}')\n",
    "print(f'shape => {m1.shape}')\n",
    "print(f'dimension => {m1.ndim}')\n",
    "print(f'data type => {m1.dtype}')\n"
   ]
  },
  {
   "cell_type": "code",
   "execution_count": null,
   "metadata": {},
   "outputs": [],
   "source": [
    "n = np.random.randint(10, 99, (4, 5))\n",
    "print(n)\n",
    "print(n.reshape(5, 4))\n",
    "#print(n.reshape(20, 1))\n",
    "#print(n.reshape(1, 20))\n"
   ]
  },
  {
   "cell_type": "code",
   "execution_count": null,
   "metadata": {},
   "outputs": [],
   "source": [
    "print(n.flatten()) # converting the 2D array to 1D array"
   ]
  },
  {
   "cell_type": "code",
   "execution_count": null,
   "metadata": {},
   "outputs": [],
   "source": [
    "y = np.random.randint(10,99, (5, 2))\n",
    "print(y)"
   ]
  },
  {
   "cell_type": "code",
   "execution_count": null,
   "metadata": {},
   "outputs": [],
   "source": [
    "print(y.T) # transposing the array"
   ]
  },
  {
   "cell_type": "markdown",
   "metadata": {},
   "source": [
    "maths and stats"
   ]
  },
  {
   "cell_type": "code",
   "execution_count": null,
   "metadata": {},
   "outputs": [],
   "source": [
    "a = np.array([[2,4], [1,3]])\n",
    "b = np.array([[1,2], [5,1]])\n",
    "\n",
    "#addition\n",
    "print(a+b)\n",
    "\n",
    "#subtraction\n",
    "print(a-b)\n",
    "\n",
    "#multiplication\n",
    "print(a*b)\n",
    "\n",
    "#division\n",
    "print(a/b)\n",
    "\n",
    "#dot product\n",
    "print(a@b) # or print(np.dot(a, b)) "
   ]
  },
  {
   "cell_type": "code",
   "execution_count": null,
   "metadata": {},
   "outputs": [],
   "source": [
    "print(y)\n",
    "print(y.sum()) # sum of all elements in the array\n",
    "print(y.sum(axis=0)) # sum of each column\n",
    "print(y.sum(axis=1)) # sum of each row\n",
    "\n",
    "#min and max\n",
    "print(y.min(), y.max()) # minimum value in the array\n",
    "\n",
    "#argmin and argmax \n",
    "print(y.argmin(), y.argmax()) # index of the minimum value in the array \n",
    "\n"
   ]
  },
  {
   "cell_type": "markdown",
   "metadata": {},
   "source": [
    "sclicing\n",
    " - 1D\n",
    " ```python\n",
    " x[start:stop:step]\n",
    " \n",
    "- 2D\n",
    "```python\n",
    "x[rowstart:rowstop:rowstep, colstart:colstop:colstep]"
   ]
  },
  {
   "cell_type": "code",
   "execution_count": null,
   "metadata": {},
   "outputs": [],
   "source": [
    "x = np.random.randint(10, 100, (10, 10))\n",
    "print(x)"
   ]
  },
  {
   "cell_type": "code",
   "execution_count": 44,
   "metadata": {},
   "outputs": [
    {
     "name": "stdout",
     "output_type": "stream",
     "text": [
      "29\n",
      "64\n",
      "[29 12 63 10 50 23 63 87 88 30]\n",
      "[46 76 20 76 12 78 96 69 46 64]\n",
      "[29 86 77 67 97 36 58 62 57 46]\n",
      "[30 88 58 41 36 11 73 14 71 64]\n",
      "[12 44 69 83 91]\n",
      "[83 13 39 43 76]\n",
      "[[29 12 63]\n",
      " [86 44 82]\n",
      " [77 69 35]\n",
      " [67 83 18]\n",
      " [97 91 81]\n",
      " [36 96 27]\n",
      " [58 12 15]\n",
      " [62 25 41]\n",
      " [57 67 35]\n",
      " [46 76 20]]\n",
      "[[87 88 30]\n",
      " [28 90 88]\n",
      " [31 89 58]\n",
      " [38 32 41]\n",
      " [10 26 36]\n",
      " [92 87 11]\n",
      " [80 23 73]\n",
      " [86 29 14]\n",
      " [56 56 71]\n",
      " [69 46 64]]\n"
     ]
    }
   ],
   "source": [
    "print(x[0,0]) # first element\n",
    "print(x[-1,-1]) # last element\n",
    "print(x[0]) # first row\n",
    "print(x[-1]) # last row\n",
    "print(x[:,0]) # first column\n",
    "print(x[:,-1]) # last column\n",
    "print(x[:5, 1]) # first 5 elements of the second column\n",
    "print(x[-5:, 3]) # last 5 elements of the 4th column\n",
    "print(x[:, :3]) # first 3 columns\n",
    "print(x[:, -3:]) # last 3 columns"
   ]
  },
  {
   "cell_type": "markdown",
   "metadata": {},
   "source": [
    "#find index of any item in matrix"
   ]
  },
  {
   "cell_type": "code",
   "execution_count": 45,
   "metadata": {},
   "outputs": [
    {
     "name": "stdout",
     "output_type": "stream",
     "text": [
      "(array([0, 4], dtype=int64), array([3, 7], dtype=int64))\n",
      "2\n"
     ]
    }
   ],
   "source": [
    "print(np.where(x == 10)) # indices of the elements that are equal to 10\n",
    "print(np.count_nonzero(x == 10)) # number of elements that are equal to 10"
   ]
  }
 ],
 "metadata": {
  "kernelspec": {
   "display_name": "base",
   "language": "python",
   "name": "python3"
  },
  "language_info": {
   "codemirror_mode": {
    "name": "ipython",
    "version": 3
   },
   "file_extension": ".py",
   "mimetype": "text/x-python",
   "name": "python",
   "nbconvert_exporter": "python",
   "pygments_lexer": "ipython3",
   "version": "3.11.5"
  }
 },
 "nbformat": 4,
 "nbformat_minor": 2
}
